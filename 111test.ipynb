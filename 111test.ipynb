{
 "cells": [
  {
   "cell_type": "code",
   "execution_count": 15,
   "metadata": {},
   "outputs": [],
   "source": [
    "import csv\n",
    "\n",
    "# CSV 输入文件路径\n",
    "input_csv_path = 'data.csv'\n",
    "# CSV 输出文件路径\n",
    "output_csv_path = 'data_trans.csv'\n",
    "\n",
    "# 读取csv文件并转换数据\n",
    "def transform_csv(input_path, output_path):\n",
    "    with open(input_path, 'r', encoding='utf-8') as infile, \\\n",
    "            open(output_path, 'w', encoding='gbk', newline='') as outfile:\n",
    "        # 初始化csv读取器和写入器\n",
    "        csv_reader = csv.reader(infile)\n",
    "        csv_writer = csv.writer(outfile)\n",
    "        \n",
    "        # 写入新的表头\n",
    "        header = ['题型', '试题内容', '选项A', '选项B', '选项C', '选项D', '选项E', '答案']\n",
    "        csv_writer.writerow(header)\n",
    "        \n",
    "        # 跳过原始数据的表头\n",
    "        next(csv_reader)\n",
    "        \n",
    "        # 逐行读取并转换数据\n",
    "        for row in csv_reader:\n",
    "            new_row = transform_row(row)\n",
    "            csv_writer.writerow(new_row)\n",
    "\n",
    "# 定义一个函数来转换每一行数据\n",
    "def transform_row(row):\n",
    "    # 使用 strip() 方法去除每个单元格值两边的空格\n",
    "    row = [cell.strip() for cell in row]\n",
    "    \n",
    "    # 定义题型\n",
    "    question_type = '单选题' if row[0] == 'single' else '多选题'\n",
    "    \n",
    "    # 填充选项，如果选项为空，则填充空字符串\n",
    "    options = [row[i] if row[i] else '' for i in range(2, 7)]\n",
    "    \n",
    "    # 转换答案格式\n",
    "    answer = row[7].replace(';', '')\n",
    "    # 如果是多选题，将答案转换为大写字母\n",
    "    if question_type == '多选题':\n",
    "        answer = ''.join([chr(65 + int(ans) - 1) for ans in answer])\n",
    "    else:\n",
    "        # 单选题直接转换为大写字母\n",
    "        answer = chr(65 + int(answer) - 1)\n",
    "    \n",
    "    # 组合新的行数据\n",
    "    new_row = [question_type, row[1]] + options + [answer]\n",
    "    # print(new_row)\n",
    "    return new_row\n",
    "\n",
    "# 调用函数执行转换\n",
    "transform_csv(input_csv_path, output_csv_path)"
   ]
  }
 ],
 "metadata": {
  "kernelspec": {
   "display_name": "Python 3",
   "language": "python",
   "name": "python3"
  },
  "language_info": {
   "codemirror_mode": {
    "name": "ipython",
    "version": 3
   },
   "file_extension": ".py",
   "mimetype": "text/x-python",
   "name": "python",
   "nbconvert_exporter": "python",
   "pygments_lexer": "ipython3",
   "version": "3.12.0"
  }
 },
 "nbformat": 4,
 "nbformat_minor": 2
}
